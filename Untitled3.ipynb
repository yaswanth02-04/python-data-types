{
  "nbformat": 4,
  "nbformat_minor": 0,
  "metadata": {
    "colab": {
      "provenance": [],
      "authorship_tag": "ABX9TyPVze6IbjTAyjKjUKFHtmpl",
      "include_colab_link": true
    },
    "kernelspec": {
      "name": "python3",
      "display_name": "Python 3"
    },
    "language_info": {
      "name": "python"
    }
  },
  "cells": [
    {
      "cell_type": "markdown",
      "metadata": {
        "id": "view-in-github",
        "colab_type": "text"
      },
      "source": [
        "<a href=\"https://colab.research.google.com/github/yaswanth02-04/python-data-types/blob/main/Untitled3.ipynb\" target=\"_parent\"><img src=\"https://colab.research.google.com/assets/colab-badge.svg\" alt=\"Open In Colab\"/></a>"
      ]
    },
    {
      "cell_type": "code",
      "execution_count": 1,
      "metadata": {
        "colab": {
          "base_uri": "https://localhost:8080/"
        },
        "id": "9yK8M0CZdx2A",
        "outputId": "3f05e1d8-3725-4cf6-8698-2eb5e00817fc"
      },
      "outputs": [
        {
          "output_type": "execute_result",
          "data": {
            "text/plain": [
              "45"
            ]
          },
          "metadata": {},
          "execution_count": 1
        }
      ],
      "source": [
        "x=10\n",
        "y=35\n",
        "c=x+y\n",
        "c"
      ]
    },
    {
      "cell_type": "code",
      "source": [],
      "metadata": {
        "id": "9N7swe4ag_CJ"
      },
      "execution_count": null,
      "outputs": []
    }
  ]
}