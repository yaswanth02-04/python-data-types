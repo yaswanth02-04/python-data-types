{
  "nbformat": 4,
  "nbformat_minor": 0,
  "metadata": {
    "colab": {
      "provenance": [],
      "authorship_tag": "ABX9TyMcOFFqzmpzuKKpuiYpF1B4",
      "include_colab_link": true
    },
    "kernelspec": {
      "name": "python3",
      "display_name": "Python 3"
    },
    "language_info": {
      "name": "python"
    }
  },
  "cells": [
    {
      "cell_type": "markdown",
      "metadata": {
        "id": "view-in-github",
        "colab_type": "text"
      },
      "source": [
        "<a href=\"https://colab.research.google.com/github/yaswanth02-04/python-data-types/blob/main/day8.ipynb\" target=\"_parent\"><img src=\"https://colab.research.google.com/assets/colab-badge.svg\" alt=\"Open In Colab\"/></a>"
      ]
    },
    {
      "cell_type": "code",
      "execution_count": 1,
      "metadata": {
        "id": "-WmGPiMXZGTE"
      },
      "outputs": [],
      "source": [
        "import numpy as np"
      ]
    },
    {
      "cell_type": "code",
      "source": [
        "j=[4,6,2,8,9]"
      ],
      "metadata": {
        "id": "YftlVnLMbimS"
      },
      "execution_count": 2,
      "outputs": []
    },
    {
      "cell_type": "code",
      "source": [
        "#numpy array operations"
      ],
      "metadata": {
        "id": "__sTrOrHfwYB"
      },
      "execution_count": 4,
      "outputs": []
    },
    {
      "cell_type": "markdown",
      "source": [
        "1)numpy array operations\n",
        "\n",
        "2)pandas data manipulation  and analysis\n",
        "\n",
        "3)matplotib and seaborn graphical analysis\n",
        "\n",
        "4)sklearn machine learning algorithms and techniques\n",
        "\n",
        "5)statsmodels statistical analysis\n",
        "\n",
        "6)scipy statistical analysis\n"
      ],
      "metadata": {
        "id": "4eCtlnFIf4VO"
      }
    },
    {
      "cell_type": "code",
      "source": [
        "import numpy as np\n",
        "j=[5,6,7,8,9,7]\n",
        "d=np.array(j)\n",
        "d"
      ],
      "metadata": {
        "colab": {
          "base_uri": "https://localhost:8080/"
        },
        "id": "rZLojlsYhq-x",
        "outputId": "4f377f9a-e1fd-4917-b0ae-b4c7a741117b"
      },
      "execution_count": 35,
      "outputs": [
        {
          "output_type": "execute_result",
          "data": {
            "text/plain": [
              "array([5, 6, 7, 8, 9, 7])"
            ]
          },
          "metadata": {},
          "execution_count": 35
        }
      ]
    },
    {
      "cell_type": "code",
      "source": [
        "d.shape\n"
      ],
      "metadata": {
        "colab": {
          "base_uri": "https://localhost:8080/"
        },
        "id": "TKwBPjCaiazQ",
        "outputId": "149e99aa-3c24-4c80-b10a-d7d9ebc62d96"
      },
      "execution_count": 33,
      "outputs": [
        {
          "output_type": "execute_result",
          "data": {
            "text/plain": [
              "(5,)"
            ]
          },
          "metadata": {},
          "execution_count": 33
        }
      ]
    },
    {
      "cell_type": "code",
      "source": [
        "type(d)"
      ],
      "metadata": {
        "colab": {
          "base_uri": "https://localhost:8080/"
        },
        "id": "5nQFEffsh5-q",
        "outputId": "3adf024a-a742-46bf-8076-721aedbefdf6"
      },
      "execution_count": 10,
      "outputs": [
        {
          "output_type": "execute_result",
          "data": {
            "text/plain": [
              "numpy.ndarray"
            ]
          },
          "metadata": {},
          "execution_count": 10
        }
      ]
    },
    {
      "cell_type": "code",
      "source": [
        "w=d.reshape(2,3)\n",
        "w"
      ],
      "metadata": {
        "colab": {
          "base_uri": "https://localhost:8080/"
        },
        "id": "LWrwdaW8tNko",
        "outputId": "06736ff7-00b5-4618-8004-ea77c2dced35"
      },
      "execution_count": 36,
      "outputs": [
        {
          "output_type": "execute_result",
          "data": {
            "text/plain": [
              "array([[5, 6, 7],\n",
              "       [8, 9, 7]])"
            ]
          },
          "metadata": {},
          "execution_count": 36
        }
      ]
    },
    {
      "cell_type": "code",
      "source": [
        "s=[[4,8,90,12],[56,78,54,20],[77,88,22,55],[67,89,50,49],[90,40,70,60]]\n",
        "s"
      ],
      "metadata": {
        "colab": {
          "base_uri": "https://localhost:8080/"
        },
        "id": "SZUEwOWwlmkp",
        "outputId": "16c496a9-839a-4345-a2fb-5536c34228fa"
      },
      "execution_count": 15,
      "outputs": [
        {
          "output_type": "execute_result",
          "data": {
            "text/plain": [
              "[[4, 8, 90, 12],\n",
              " [56, 78, 54, 20],\n",
              " [77, 88, 22, 55],\n",
              " [67, 89, 50, 49],\n",
              " [90, 40, 70, 60]]"
            ]
          },
          "metadata": {},
          "execution_count": 15
        }
      ]
    },
    {
      "cell_type": "code",
      "source": [
        "d.ndim\n"
      ],
      "metadata": {
        "colab": {
          "base_uri": "https://localhost:8080/"
        },
        "id": "v394f4idizc7",
        "outputId": "4d65e342-4cd1-46f3-ca6f-ff9e6a19c70b"
      },
      "execution_count": 23,
      "outputs": [
        {
          "output_type": "execute_result",
          "data": {
            "text/plain": [
              "1"
            ]
          },
          "metadata": {},
          "execution_count": 23
        }
      ]
    },
    {
      "cell_type": "code",
      "source": [
        "d.size"
      ],
      "metadata": {
        "colab": {
          "base_uri": "https://localhost:8080/"
        },
        "id": "fwRCPrjhjKaX",
        "outputId": "66fe4fc3-96d2-4431-b1d9-a7267dcbaece"
      },
      "execution_count": 13,
      "outputs": [
        {
          "output_type": "execute_result",
          "data": {
            "text/plain": [
              "5"
            ]
          },
          "metadata": {},
          "execution_count": 13
        }
      ]
    },
    {
      "cell_type": "code",
      "source": [
        "type(s)"
      ],
      "metadata": {
        "colab": {
          "base_uri": "https://localhost:8080/"
        },
        "id": "F4RxbJW2oB7d",
        "outputId": "17ade012-a4f0-41de-f9d8-3b01ceeff203"
      },
      "execution_count": 16,
      "outputs": [
        {
          "output_type": "execute_result",
          "data": {
            "text/plain": [
              "list"
            ]
          },
          "metadata": {},
          "execution_count": 16
        }
      ]
    },
    {
      "cell_type": "code",
      "source": [
        "arr1=np.array(s)\n",
        "arr1"
      ],
      "metadata": {
        "colab": {
          "base_uri": "https://localhost:8080/"
        },
        "id": "HvTrOExboDtX",
        "outputId": "6ea2d81a-734a-48c6-b329-b41ef49d8727"
      },
      "execution_count": 17,
      "outputs": [
        {
          "output_type": "execute_result",
          "data": {
            "text/plain": [
              "array([[ 4,  8, 90, 12],\n",
              "       [56, 78, 54, 20],\n",
              "       [77, 88, 22, 55],\n",
              "       [67, 89, 50, 49],\n",
              "       [90, 40, 70, 60]])"
            ]
          },
          "metadata": {},
          "execution_count": 17
        }
      ]
    },
    {
      "cell_type": "code",
      "source": [
        "arr1.shape"
      ],
      "metadata": {
        "colab": {
          "base_uri": "https://localhost:8080/"
        },
        "id": "XyIKfEYcoNi9",
        "outputId": "b532ba1b-3e48-4e58-e7ff-0113703f78a9"
      },
      "execution_count": 18,
      "outputs": [
        {
          "output_type": "execute_result",
          "data": {
            "text/plain": [
              "(5, 4)"
            ]
          },
          "metadata": {},
          "execution_count": 18
        }
      ]
    },
    {
      "cell_type": "code",
      "source": [
        "arr1.size"
      ],
      "metadata": {
        "colab": {
          "base_uri": "https://localhost:8080/"
        },
        "id": "9ZctJ_FGoP9P",
        "outputId": "a218568c-9318-4a22-f5a7-2c686bf90af8"
      },
      "execution_count": 19,
      "outputs": [
        {
          "output_type": "execute_result",
          "data": {
            "text/plain": [
              "20"
            ]
          },
          "metadata": {},
          "execution_count": 19
        }
      ]
    },
    {
      "cell_type": "code",
      "source": [
        "arr1.ndim"
      ],
      "metadata": {
        "colab": {
          "base_uri": "https://localhost:8080/"
        },
        "id": "tKI9DwKUoRiG",
        "outputId": "916326f6-b1ce-49cd-f71a-93a6fde36826"
      },
      "execution_count": 20,
      "outputs": [
        {
          "output_type": "execute_result",
          "data": {
            "text/plain": [
              "2"
            ]
          },
          "metadata": {},
          "execution_count": 20
        }
      ]
    },
    {
      "cell_type": "code",
      "source": [
        "arr1.size"
      ],
      "metadata": {
        "colab": {
          "base_uri": "https://localhost:8080/"
        },
        "id": "C31vlNjusnxT",
        "outputId": "6c9c829c-e86a-47ab-c967-2e491a3badda"
      },
      "execution_count": 37,
      "outputs": [
        {
          "output_type": "execute_result",
          "data": {
            "text/plain": [
              "20"
            ]
          },
          "metadata": {},
          "execution_count": 37
        }
      ]
    },
    {
      "cell_type": "code",
      "source": [
        "arr1.shape"
      ],
      "metadata": {
        "colab": {
          "base_uri": "https://localhost:8080/"
        },
        "id": "3wss2zCquEFn",
        "outputId": "dc1c446f-83f4-49d8-8204-344c780ffcf7"
      },
      "execution_count": 38,
      "outputs": [
        {
          "output_type": "execute_result",
          "data": {
            "text/plain": [
              "(5, 4)"
            ]
          },
          "metadata": {},
          "execution_count": 38
        }
      ]
    },
    {
      "cell_type": "code",
      "source": [
        "h=arr1.reshape(2,2,5)\n",
        "h"
      ],
      "metadata": {
        "colab": {
          "base_uri": "https://localhost:8080/"
        },
        "id": "h14V2adLuGkD",
        "outputId": "d91f6c56-62de-47ce-e31a-6a73f1a5f76f"
      },
      "execution_count": 42,
      "outputs": [
        {
          "output_type": "execute_result",
          "data": {
            "text/plain": [
              "array([[[ 4,  8, 90, 12, 56],\n",
              "        [78, 54, 20, 77, 88]],\n",
              "\n",
              "       [[22, 55, 67, 89, 50],\n",
              "        [49, 90, 40, 70, 60]]])"
            ]
          },
          "metadata": {},
          "execution_count": 42
        }
      ]
    },
    {
      "cell_type": "code",
      "source": [
        "h=arr1.reshape(20,)\n",
        "h"
      ],
      "metadata": {
        "colab": {
          "base_uri": "https://localhost:8080/"
        },
        "id": "PqQqrxK2uKDs",
        "outputId": "fc534e69-08e8-4bef-c1af-622a8c7a754f"
      },
      "execution_count": 44,
      "outputs": [
        {
          "output_type": "execute_result",
          "data": {
            "text/plain": [
              "array([ 4,  8, 90, 12, 56, 78, 54, 20, 77, 88, 22, 55, 67, 89, 50, 49, 90,\n",
              "       40, 70, 60])"
            ]
          },
          "metadata": {},
          "execution_count": 44
        }
      ]
    },
    {
      "cell_type": "code",
      "source": [
        "h.ndim"
      ],
      "metadata": {
        "colab": {
          "base_uri": "https://localhost:8080/"
        },
        "id": "NwNQFzPou06B",
        "outputId": "7c35f5d4-e604-4493-dbff-54d381a6b810"
      },
      "execution_count": 45,
      "outputs": [
        {
          "output_type": "execute_result",
          "data": {
            "text/plain": [
              "1"
            ]
          },
          "metadata": {},
          "execution_count": 45
        }
      ]
    },
    {
      "cell_type": "code",
      "source": [
        "h.shape"
      ],
      "metadata": {
        "colab": {
          "base_uri": "https://localhost:8080/"
        },
        "id": "5qSE8Sksu5Uf",
        "outputId": "b61a0236-d719-4073-c800-025f5729b7df"
      },
      "execution_count": 46,
      "outputs": [
        {
          "output_type": "execute_result",
          "data": {
            "text/plain": [
              "(20,)"
            ]
          },
          "metadata": {},
          "execution_count": 46
        }
      ]
    },
    {
      "cell_type": "code",
      "source": [
        "h.size"
      ],
      "metadata": {
        "colab": {
          "base_uri": "https://localhost:8080/"
        },
        "id": "-P8RaucvvAhm",
        "outputId": "5ce8badc-cbdd-40a5-9fe4-f48f5c52d877"
      },
      "execution_count": 47,
      "outputs": [
        {
          "output_type": "execute_result",
          "data": {
            "text/plain": [
              "20"
            ]
          },
          "metadata": {},
          "execution_count": 47
        }
      ]
    },
    {
      "cell_type": "code",
      "source": [
        "h=arr1.reshape(20,1)\n",
        "h"
      ],
      "metadata": {
        "colab": {
          "base_uri": "https://localhost:8080/"
        },
        "id": "NIzen65AvC97",
        "outputId": "721ead10-3e58-47e3-b1ee-6d9b20630c09"
      },
      "execution_count": 49,
      "outputs": [
        {
          "output_type": "execute_result",
          "data": {
            "text/plain": [
              "array([[ 4],\n",
              "       [ 8],\n",
              "       [90],\n",
              "       [12],\n",
              "       [56],\n",
              "       [78],\n",
              "       [54],\n",
              "       [20],\n",
              "       [77],\n",
              "       [88],\n",
              "       [22],\n",
              "       [55],\n",
              "       [67],\n",
              "       [89],\n",
              "       [50],\n",
              "       [49],\n",
              "       [90],\n",
              "       [40],\n",
              "       [70],\n",
              "       [60]])"
            ]
          },
          "metadata": {},
          "execution_count": 49
        }
      ]
    },
    {
      "cell_type": "code",
      "source": [
        "h.ndim"
      ],
      "metadata": {
        "colab": {
          "base_uri": "https://localhost:8080/"
        },
        "id": "_k7XhoEpvOp7",
        "outputId": "ba5fd968-c22b-49f5-9385-91964ffc5842"
      },
      "execution_count": 50,
      "outputs": [
        {
          "output_type": "execute_result",
          "data": {
            "text/plain": [
              "2"
            ]
          },
          "metadata": {},
          "execution_count": 50
        }
      ]
    },
    {
      "cell_type": "code",
      "source": [
        "h=arr1.reshape(1,20)\n",
        "h"
      ],
      "metadata": {
        "colab": {
          "base_uri": "https://localhost:8080/"
        },
        "id": "oMUzoiHivVCh",
        "outputId": "875d6323-5ea6-4fb5-f894-2f9b0da42ba9"
      },
      "execution_count": 52,
      "outputs": [
        {
          "output_type": "execute_result",
          "data": {
            "text/plain": [
              "array([[ 4,  8, 90, 12, 56, 78, 54, 20, 77, 88, 22, 55, 67, 89, 50, 49,\n",
              "        90, 40, 70, 60]])"
            ]
          },
          "metadata": {},
          "execution_count": 52
        }
      ]
    },
    {
      "cell_type": "code",
      "source": [
        "arr1.reshape(2,2,5,1)"
      ],
      "metadata": {
        "colab": {
          "base_uri": "https://localhost:8080/"
        },
        "id": "dzwQuEICvhES",
        "outputId": "9d415f35-c244-408c-e978-1c6949056d0c"
      },
      "execution_count": 53,
      "outputs": [
        {
          "output_type": "execute_result",
          "data": {
            "text/plain": [
              "array([[[[ 4],\n",
              "         [ 8],\n",
              "         [90],\n",
              "         [12],\n",
              "         [56]],\n",
              "\n",
              "        [[78],\n",
              "         [54],\n",
              "         [20],\n",
              "         [77],\n",
              "         [88]]],\n",
              "\n",
              "\n",
              "       [[[22],\n",
              "         [55],\n",
              "         [67],\n",
              "         [89],\n",
              "         [50]],\n",
              "\n",
              "        [[49],\n",
              "         [90],\n",
              "         [40],\n",
              "         [70],\n",
              "         [60]]]])"
            ]
          },
          "metadata": {},
          "execution_count": 53
        }
      ]
    },
    {
      "cell_type": "code",
      "source": [
        "arr1.reshape(1,2,1,2,5,1)"
      ],
      "metadata": {
        "colab": {
          "base_uri": "https://localhost:8080/"
        },
        "id": "eOtXL7V9wsjL",
        "outputId": "1f3184d1-648e-4322-c27a-4b37d15638ca"
      },
      "execution_count": 54,
      "outputs": [
        {
          "output_type": "execute_result",
          "data": {
            "text/plain": [
              "array([[[[[[ 4],\n",
              "           [ 8],\n",
              "           [90],\n",
              "           [12],\n",
              "           [56]],\n",
              "\n",
              "          [[78],\n",
              "           [54],\n",
              "           [20],\n",
              "           [77],\n",
              "           [88]]]],\n",
              "\n",
              "\n",
              "\n",
              "        [[[[22],\n",
              "           [55],\n",
              "           [67],\n",
              "           [89],\n",
              "           [50]],\n",
              "\n",
              "          [[49],\n",
              "           [90],\n",
              "           [40],\n",
              "           [70],\n",
              "           [60]]]]]])"
            ]
          },
          "metadata": {},
          "execution_count": 54
        }
      ]
    },
    {
      "cell_type": "code",
      "source": [
        "arr1.reshape(5,2,1,2)"
      ],
      "metadata": {
        "colab": {
          "base_uri": "https://localhost:8080/"
        },
        "id": "QEKxoX69xSaO",
        "outputId": "b63690c5-2bc5-49bb-92a5-97d5d7f9c6d2"
      },
      "execution_count": 58,
      "outputs": [
        {
          "output_type": "execute_result",
          "data": {
            "text/plain": [
              "array([[[[ 4,  8]],\n",
              "\n",
              "        [[90, 12]]],\n",
              "\n",
              "\n",
              "       [[[56, 78]],\n",
              "\n",
              "        [[54, 20]]],\n",
              "\n",
              "\n",
              "       [[[77, 88]],\n",
              "\n",
              "        [[22, 55]]],\n",
              "\n",
              "\n",
              "       [[[67, 89]],\n",
              "\n",
              "        [[50, 49]]],\n",
              "\n",
              "\n",
              "       [[[90, 40]],\n",
              "\n",
              "        [[70, 60]]]])"
            ]
          },
          "metadata": {},
          "execution_count": 58
        }
      ]
    },
    {
      "cell_type": "code",
      "source": [
        "m=[2,3,4,5,6,7,8,9,10,11,12,13,14]\n",
        "m"
      ],
      "metadata": {
        "colab": {
          "base_uri": "https://localhost:8080/"
        },
        "id": "mAAdSJ4bxII3",
        "outputId": "c22029ef-fcaf-4646-cd88-74d6fa8bb13d"
      },
      "execution_count": 59,
      "outputs": [
        {
          "output_type": "execute_result",
          "data": {
            "text/plain": [
              "[2, 3, 4, 5, 6, 7, 8, 9, 10, 11, 12, 13, 14]"
            ]
          },
          "metadata": {},
          "execution_count": 59
        }
      ]
    },
    {
      "cell_type": "code",
      "source": [
        "range(2,15)\n",
        "m"
      ],
      "metadata": {
        "colab": {
          "base_uri": "https://localhost:8080/"
        },
        "id": "-Hwbpe53yY3E",
        "outputId": "327af079-651b-432c-9968-83168f998b59"
      },
      "execution_count": 61,
      "outputs": [
        {
          "output_type": "execute_result",
          "data": {
            "text/plain": [
              "[2, 3, 4, 5, 6, 7, 8, 9, 10, 11, 12, 13, 14]"
            ]
          },
          "metadata": {},
          "execution_count": 61
        }
      ]
    },
    {
      "cell_type": "code",
      "source": [
        "list(range(2,15,2))"
      ],
      "metadata": {
        "colab": {
          "base_uri": "https://localhost:8080/"
        },
        "id": "14Xt5SBmyc-p",
        "outputId": "6ad618dd-803e-44c8-d202-093ae1e34ed6"
      },
      "execution_count": 62,
      "outputs": [
        {
          "output_type": "execute_result",
          "data": {
            "text/plain": [
              "[2, 4, 6, 8, 10, 12, 14]"
            ]
          },
          "metadata": {},
          "execution_count": 62
        }
      ]
    },
    {
      "cell_type": "code",
      "source": [
        "tuple(range(5,1000,45))"
      ],
      "metadata": {
        "colab": {
          "base_uri": "https://localhost:8080/"
        },
        "id": "gQ7GepFuykDv",
        "outputId": "83c42dac-3793-42ec-acb7-0f963d374a2b"
      },
      "execution_count": 64,
      "outputs": [
        {
          "output_type": "execute_result",
          "data": {
            "text/plain": [
              "(5,\n",
              " 50,\n",
              " 95,\n",
              " 140,\n",
              " 185,\n",
              " 230,\n",
              " 275,\n",
              " 320,\n",
              " 365,\n",
              " 410,\n",
              " 455,\n",
              " 500,\n",
              " 545,\n",
              " 590,\n",
              " 635,\n",
              " 680,\n",
              " 725,\n",
              " 770,\n",
              " 815,\n",
              " 860,\n",
              " 905,\n",
              " 950,\n",
              " 995)"
            ]
          },
          "metadata": {},
          "execution_count": 64
        }
      ]
    },
    {
      "cell_type": "code",
      "source": [
        "list(range(-1,-100,-4))"
      ],
      "metadata": {
        "colab": {
          "base_uri": "https://localhost:8080/"
        },
        "id": "szPkCUnBy-qr",
        "outputId": "27a050c5-7190-46c7-c992-3a6935e60a05"
      },
      "execution_count": 66,
      "outputs": [
        {
          "output_type": "execute_result",
          "data": {
            "text/plain": [
              "[-1,\n",
              " -5,\n",
              " -9,\n",
              " -13,\n",
              " -17,\n",
              " -21,\n",
              " -25,\n",
              " -29,\n",
              " -33,\n",
              " -37,\n",
              " -41,\n",
              " -45,\n",
              " -49,\n",
              " -53,\n",
              " -57,\n",
              " -61,\n",
              " -65,\n",
              " -69,\n",
              " -73,\n",
              " -77,\n",
              " -81,\n",
              " -85,\n",
              " -89,\n",
              " -93,\n",
              " -97]"
            ]
          },
          "metadata": {},
          "execution_count": 66
        }
      ]
    },
    {
      "cell_type": "code",
      "source": [
        "list(range(10,-10,-2))"
      ],
      "metadata": {
        "colab": {
          "base_uri": "https://localhost:8080/"
        },
        "id": "fiBuEUJGzyRK",
        "outputId": "b6214827-e243-4cec-dce2-e7a413ecf087"
      },
      "execution_count": 71,
      "outputs": [
        {
          "output_type": "execute_result",
          "data": {
            "text/plain": [
              "[10, 8, 6, 4, 2, 0, -2, -4, -6, -8]"
            ]
          },
          "metadata": {},
          "execution_count": 71
        }
      ]
    },
    {
      "cell_type": "code",
      "source": [
        "np.arange(5.0,10.0,0.5)"
      ],
      "metadata": {
        "colab": {
          "base_uri": "https://localhost:8080/"
        },
        "id": "Ind7kVV10O5l",
        "outputId": "73e5d5a3-1ecb-4b0f-bad1-064669efa7a7"
      },
      "execution_count": 72,
      "outputs": [
        {
          "output_type": "execute_result",
          "data": {
            "text/plain": [
              "array([5. , 5.5, 6. , 6.5, 7. , 7.5, 8. , 8.5, 9. , 9.5])"
            ]
          },
          "metadata": {},
          "execution_count": 72
        }
      ]
    },
    {
      "cell_type": "code",
      "source": [
        "for i in range(5,50,5):\n",
        "  print('BABU',i)"
      ],
      "metadata": {
        "colab": {
          "base_uri": "https://localhost:8080/"
        },
        "id": "QMy3CD3C1Bm8",
        "outputId": "d750bbdb-8fff-4da4-c8f9-31aee7626e06"
      },
      "execution_count": 74,
      "outputs": [
        {
          "output_type": "stream",
          "name": "stdout",
          "text": [
            "BABU 5\n",
            "BABU 10\n",
            "BABU 15\n",
            "BABU 20\n",
            "BABU 25\n",
            "BABU 30\n",
            "BABU 35\n",
            "BABU 40\n",
            "BABU 45\n"
          ]
        }
      ]
    },
    {
      "cell_type": "code",
      "source": [
        "j=[5,87,46,84,45,63,72,80]\n",
        "j"
      ],
      "metadata": {
        "colab": {
          "base_uri": "https://localhost:8080/"
        },
        "id": "MMny8C_m1fYg",
        "outputId": "e2192c7b-74d6-48eb-aec8-865bedcb5f99"
      },
      "execution_count": 75,
      "outputs": [
        {
          "output_type": "execute_result",
          "data": {
            "text/plain": [
              "[5, 87, 46, 84, 45, 63, 72, 80]"
            ]
          },
          "metadata": {},
          "execution_count": 75
        }
      ]
    },
    {
      "cell_type": "code",
      "source": [
        "x=[]\n",
        "y=[]\n",
        "for i in range(len(j)):\n",
        "  if i%2==0:\n",
        "    x.append(j[i])\n",
        "  else:\n",
        "    y.append(j[i])\n",
        "for i in j:\n",
        "  print(i)\n"
      ],
      "metadata": {
        "colab": {
          "base_uri": "https://localhost:8080/"
        },
        "id": "XpsvQEUZ1rsk",
        "outputId": "b9099719-d509-4c91-8420-cbe9ad40f957"
      },
      "execution_count": 78,
      "outputs": [
        {
          "output_type": "stream",
          "name": "stdout",
          "text": [
            "5\n",
            "87\n",
            "46\n",
            "84\n",
            "45\n",
            "63\n",
            "72\n",
            "80\n"
          ]
        }
      ]
    },
    {
      "cell_type": "code",
      "source": [
        ""
      ],
      "metadata": {
        "id": "O2ZbgVrt4ktn"
      },
      "execution_count": null,
      "outputs": []
    }
  ]
}